{
 "cells": [
  {
   "cell_type": "code",
   "execution_count": 1,
   "id": "412a9291-716f-463b-a346-a6c11ab2d45e",
   "metadata": {},
   "outputs": [],
   "source": [
    "from utils import get_input"
   ]
  },
  {
   "cell_type": "markdown",
   "id": "95e3b51e-3978-41b6-9f4d-3e8b7a6b062e",
   "metadata": {
    "jp-MarkdownHeadingCollapsed": true,
    "tags": []
   },
   "source": [
    "# Day 1"
   ]
  },
  {
   "cell_type": "code",
   "execution_count": 2,
   "id": "552a87a2-20a2-4c0f-a611-83e05ecd3aab",
   "metadata": {},
   "outputs": [],
   "source": [
    "content = get_input(\"day01.txt\")"
   ]
  },
  {
   "cell_type": "markdown",
   "id": "dd11ca53-abda-4c9f-ad6a-72b8e34859f5",
   "metadata": {},
   "source": [
    "## part 1"
   ]
  },
  {
   "cell_type": "code",
   "execution_count": 3,
   "id": "b7dd3198-846e-41fc-ad96-82338d97c15a",
   "metadata": {},
   "outputs": [
    {
     "name": "stdout",
     "output_type": "stream",
     "text": [
      "Solution is: 1583\n"
     ]
    }
   ],
   "source": [
    "values = [int(i) for i in content.split(\"\\n\")]\n",
    "\n",
    "previous_value = 999\n",
    "increases = 0\n",
    "for value in values:\n",
    "    if value > previous_value:\n",
    "        increases += 1\n",
    "    previous_value = value\n",
    "\n",
    "print(f\"Solution is: {increases}\")"
   ]
  },
  {
   "cell_type": "markdown",
   "id": "bb6e828a-91a9-4fa0-9ab5-8725e57d2df2",
   "metadata": {},
   "source": [
    "## part 2"
   ]
  },
  {
   "cell_type": "code",
   "execution_count": 4,
   "id": "40830384-7272-4d32-b507-cbf41164b920",
   "metadata": {},
   "outputs": [
    {
     "name": "stdout",
     "output_type": "stream",
     "text": [
      "Solution is: 1627\n"
     ]
    }
   ],
   "source": [
    "values = [int(i) for i in content.split(\"\\n\")]\n",
    "triplet_sum = [sum(values[i:i+3]) for i,_ in enumerate(values)][:-2]\n",
    "\n",
    "previous_value = 999\n",
    "increases = 0\n",
    "for value in triplet_sum:\n",
    "    if value > previous_value:\n",
    "        increases += 1\n",
    "    previous_value = value\n",
    "\n",
    "print(f\"Solution is: {increases}\")"
   ]
  },
  {
   "cell_type": "markdown",
   "id": "a24c7b38-4c85-4371-9e3e-8008e9b0ebba",
   "metadata": {
    "jp-MarkdownHeadingCollapsed": true,
    "tags": []
   },
   "source": [
    "# Day 2"
   ]
  },
  {
   "cell_type": "code",
   "execution_count": 5,
   "id": "66daa086-37b4-4dc2-9cd2-ae5c4944793e",
   "metadata": {},
   "outputs": [],
   "source": [
    "content = get_input(\"day02.txt\")"
   ]
  },
  {
   "cell_type": "markdown",
   "id": "8b43a481-bb30-42e4-968f-59998ce69c6d",
   "metadata": {},
   "source": [
    "## part 1"
   ]
  },
  {
   "cell_type": "code",
   "execution_count": 6,
   "id": "3598ef3d-3a20-4f6b-9ee6-c09806ea966e",
   "metadata": {
    "tags": []
   },
   "outputs": [
    {
     "name": "stdout",
     "output_type": "stream",
     "text": [
      "Solution 1714680\n"
     ]
    }
   ],
   "source": [
    "x = y = 0\n",
    "\n",
    "def parse_row(row):\n",
    "    command, units_str = row.split(\" \")\n",
    "    units = int(units_str)\n",
    "    if command == \"forward\":\n",
    "        return units, 0\n",
    "    elif command == \"down\":\n",
    "        return 0, units\n",
    "    elif command == \"up\":\n",
    "        return 0, -units\n",
    "    raise ValueError(f\"{command}\")\n",
    "\n",
    "for row in content.split(\"\\n\"):\n",
    "    if not row: continue\n",
    "    dx, dy = parse_row(row) \n",
    "    x += dx\n",
    "    y += dy\n",
    "    \n",
    "print(f\"Solution {x*y}\")"
   ]
  },
  {
   "cell_type": "markdown",
   "id": "20a69e8c-358a-41e5-b696-3d16c19508f9",
   "metadata": {},
   "source": [
    "## part 2"
   ]
  },
  {
   "cell_type": "code",
   "execution_count": 7,
   "id": "998d0f95-a29b-4f10-bfa1-9f64ea68e1ed",
   "metadata": {},
   "outputs": [
    {
     "name": "stdout",
     "output_type": "stream",
     "text": [
      "Solution 1963088820\n"
     ]
    }
   ],
   "source": [
    "x = y = aim = 0\n",
    "\n",
    "def parse_row(row, current_aim):\n",
    "    \"\"\"returns horizontal, depth and aim\"\"\"\n",
    "    command, units_str = row.split(\" \")\n",
    "    units = int(units_str)\n",
    "    if command == \"forward\":\n",
    "        return units, current_aim*units, 0\n",
    "    elif command == \"down\":\n",
    "        return 0, 0, units\n",
    "    elif command == \"up\":\n",
    "        return 0, 0, -units\n",
    "    raise ValueError(f\"{command}\")\n",
    "\n",
    "for row in content.split(\"\\n\"):\n",
    "    if not row: continue\n",
    "    dx, dy, daimd = parse_row(row, aim) \n",
    "    x += dx\n",
    "    y += dy\n",
    "    aim += daimd\n",
    "    \n",
    "print(f\"Solution {x*y}\")"
   ]
  },
  {
   "cell_type": "code",
   "execution_count": null,
   "id": "58dde613-78b5-451c-90c3-0b24be82a8be",
   "metadata": {},
   "outputs": [],
   "source": []
  }
 ],
 "metadata": {
  "kernelspec": {
   "display_name": "Python 3 (ipykernel)",
   "language": "python",
   "name": "python3"
  },
  "language_info": {
   "codemirror_mode": {
    "name": "ipython",
    "version": 3
   },
   "file_extension": ".py",
   "mimetype": "text/x-python",
   "name": "python",
   "nbconvert_exporter": "python",
   "pygments_lexer": "ipython3",
   "version": "3.9.1"
  }
 },
 "nbformat": 4,
 "nbformat_minor": 5
}
